{
 "cells": [
  {
   "cell_type": "markdown",
   "metadata": {},
   "source": [
    "# Histograma\n",
    "## Librerias"
   ]
  },
  {
   "cell_type": "code",
   "execution_count": null,
   "metadata": {},
   "outputs": [],
   "source": [
    "import matplotlib.pyplot as plt\n",
    "from PIL import Image\n",
    "import numpy as np\n",
    "from math import *"
   ]
  },
  {
   "cell_type": "markdown",
   "metadata": {},
   "source": [
    "## Funciones"
   ]
  },
  {
   "cell_type": "code",
   "execution_count": null,
   "metadata": {},
   "outputs": [],
   "source": [
    "#Atributo: Imagen RGB\n",
    "#Retorno: Imagen pseudoescala de grises (R=G=B)\n",
    "def convertirEscalaGrises(I):\n",
    "#Se crea una copia de la imagen original\n",
    "    arregloImagen = np.asarray(I)\n",
    "    imagenTransformada = np.copy(arregloImagen)\n",
    "    #Se obtiene el tamaño de la imagen\n",
    "    n,m = I.size\n",
    "    #Se convierte en escala de grises\n",
    "    for x in range(0,m):\n",
    "        for y in range(0,n):\n",
    "            imagenTransformada[x,y,0] = 0.299*imagenTransformada[x,y,0]+0.587*imagenTransformada[x,y,1]+0.114*imagenTransformada[x,y,2]\n",
    "            imagenTransformada[x,y,1] = imagenTransformada[x,y,0]\n",
    "            imagenTransformada[x,y,2] = imagenTransformada[x,y,0]\n",
    "    return n,m,Image.fromarray(imagenTransformada)\n",
    "\n",
    "\n",
    "img = \"https://previews.123rf.com/images/ravennka/ravennka1506/ravennka150600030/41193292-backgroun-abstracto-incons%C3%BAtil-en-colores-brillantes-con-alto-contraste.jpg\""
   ]
  }
 ],
 "metadata": {
  "language_info": {
   "name": "python"
  },
  "orig_nbformat": 4
 },
 "nbformat": 4,
 "nbformat_minor": 2
}
